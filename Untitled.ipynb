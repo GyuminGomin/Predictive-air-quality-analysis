{
 "cells": [
  {
   "cell_type": "code",
   "execution_count": 29,
   "id": "881b47e3",
   "metadata": {},
   "outputs": [],
   "source": [
    "from Model_공기질예측모델 import Model"
   ]
  },
  {
   "cell_type": "code",
   "execution_count": 30,
   "id": "02d11bf9",
   "metadata": {},
   "outputs": [
    {
     "ename": "AttributeError",
     "evalue": "'Model' object has no attribute 'execute_model'",
     "output_type": "error",
     "traceback": [
      "\u001b[1;31m---------------------------------------------------------------------------\u001b[0m",
      "\u001b[1;31mAttributeError\u001b[0m                            Traceback (most recent call last)",
      "Cell \u001b[1;32mIn[30], line 21\u001b[0m\n\u001b[0;32m     17\u001b[0m Daean\u001b[38;5;241m.\u001b[39mname \u001b[38;5;241m=\u001b[39m \u001b[38;5;124m\"\u001b[39m\u001b[38;5;124m대안동\u001b[39m\u001b[38;5;124m\"\u001b[39m\n\u001b[0;32m     19\u001b[0m model \u001b[38;5;241m=\u001b[39m Model(OA200_1, OA200_2, airKorea_data_3, wind_dataframe1\u001b[38;5;241m=\u001b[39mSangbong, wind_dataframe2\u001b[38;5;241m=\u001b[39mJungchon, wind_dataframe3\u001b[38;5;241m=\u001b[39mDaean)\n\u001b[1;32m---> 21\u001b[0m \u001b[43mmodel\u001b[49m\u001b[38;5;241;43m.\u001b[39;49m\u001b[43mexecute_model\u001b[49m()\n",
      "\u001b[1;31mAttributeError\u001b[0m: 'Model' object has no attribute 'execute_model'"
     ]
    }
   ],
   "source": [
    "import pandas as pd\n",
    "\n",
    "# arim_data 12.1~12.15 Hour\n",
    "OA200_2 = pd.read_csv('./OA200_2/OA2002_12.01~12.15.csv')\n",
    "OA200_1 = pd.read_csv('./OA200_1/OA2001_12.01~12.15.csv')\n",
    "airKorea_data_3 = pd.read_csv('./AirKorea_대안동/AirKorea_12.01~12.15.csv')\n",
    "OA200_1.name = \"학교\"\n",
    "OA200_2.name = \"진주성\"\n",
    "airKorea_data_3.name = \"대안동\"\n",
    "\n",
    "# 풍향, 풍속 데이터\n",
    "Sangbong = pd.read_csv(\"./weather/상봉동/2022-12.csv\", encoding='cp949')\n",
    "Jungchon = pd.read_csv(\"./weather/정촌면(학교근처)/2022-12.csv\", encoding='cp949')\n",
    "Daean = pd.read_csv(\"./weather/대안동/2022-12.csv\", encoding='cp949')\n",
    "Sangbong.name = \"상봉동\"\n",
    "Jungchon.name = \"정촌면\"\n",
    "Daean.name = \"대안동\"\n",
    "\n",
    "model = Model(OA200_1, OA200_2, airKorea_data_3, wind_dataframe1=Sangbong, wind_dataframe2=Jungchon, wind_dataframe3=Daean)\n",
    "\n",
    "model.execute_model()"
   ]
  }
 ],
 "metadata": {
  "kernelspec": {
   "display_name": "Python 3 (ipykernel)",
   "language": "python",
   "name": "python3"
  },
  "language_info": {
   "codemirror_mode": {
    "name": "ipython",
    "version": 3
   },
   "file_extension": ".py",
   "mimetype": "text/x-python",
   "name": "python",
   "nbconvert_exporter": "python",
   "pygments_lexer": "ipython3",
   "version": "3.10.9"
  }
 },
 "nbformat": 4,
 "nbformat_minor": 5
}
