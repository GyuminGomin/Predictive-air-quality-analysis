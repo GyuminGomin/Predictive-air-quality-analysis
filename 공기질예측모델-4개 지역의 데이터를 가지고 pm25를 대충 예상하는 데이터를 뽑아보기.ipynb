{
 "cells": [
  {
   "cell_type": "markdown",
   "id": "9d732365",
   "metadata": {},
   "source": [
    "# 모델을 만들기 위한 절차"
   ]
  },
  {
   "cell_type": "markdown",
   "id": "8e11ede6",
   "metadata": {},
   "source": [
    "1. 2개 이상의 데이터가 들어오면 자동으로 처리할 수 있게 해주는 모델 개발\n",
    "2. 현재는 4개의 데이터를 직접 전처리해 한개의 데이터를 추출할 수 있게 해놓음\n",
    "3. 기온과 습도 풍향과 풍속은 그날 바로 알 수 있으므로, 이 4개 데이터를 넣으면 그 지역 현재 시간대의 미세먼지 등급을 알 수 있게 하는 모델"
   ]
  },
  {
   "cell_type": "markdown",
   "id": "d761a511",
   "metadata": {},
   "source": [
    "결론적으로 처리할 건  \n",
    "(이렇게 하려면 실시간으로 데이터를 크롤링 해와 데이터를 쉽게 다룰 수 있도록 바꾸는 과정이 필요함. -> 현재 불가)  \n",
    "(그냥 과거 데이터를 그냥 두고, 입력을 4개하면 그 지역 미세먼지 등급을 예측하는 모델을 생각해보자.)  \n",
    "input : 입력하세요 -> 기온, 습도, 풍향, 풍속, 위도(거의 비슷한 위치이므로 생략), 경도(거의 비슷한 위치이므로 생략)  \n",
    "처리중입니다. -> 결과 : **지역 미세먼지 등급 - 좋음\n",
    "\n"
   ]
  },
  {
   "cell_type": "markdown",
   "id": "058ce909",
   "metadata": {},
   "source": [
    "다음에 해야할 작업 - >\n",
    "1. 위도, 경도 데이터를 대안동을 뺀 나머지 데이터에 다 넣어주고,\n",
    "2. 위도, 경도, 풍향, 풍속, 기온, 습도 6가지 데이터의 특징을 찾아보고 (없을 확률이 높다)  \n",
    "\n",
    "-> 한개지역의 데이터씩 뽑아서 <올라가거나 내려가는 구간>에서는 회귀분석을 통해, 나온 예측값들을 조화평균내서 대안동에 대입하고, 거의 일정한 구간에서는 그 값들의 평균을 내 대안동에 대입해서 pm25를 예측하는 알고리즘을 만들어서 만들고, 그 값들을 SVM, KNN 등등에 대입해 4가지 등급을 예측하는 알고리즘을 만들자 \n",
    "\n",
    "\n",
    "-> 올라가거나 내려가는 구간을 판별하는 방식은 경사하강법? 미분을 적용시켜 속도가 변하는 구간이 발생하는 조건을 넣어서 생기는 구간을 만들면 되지 않을까 생각한다."
   ]
  },
  {
   "cell_type": "markdown",
   "id": "5337f541",
   "metadata": {},
   "source": [
    "## 해야할 목표\n",
    "1. 나쁨과 보통의 기준을 나눠 아림 데이터의 나쁨을 잘 나타낼 수 있는 방향성을 찾기 16 ~ 35,36 ~ 75\n",
    "    - 나쁨과 보통 기준 데이터만 모아서 아림과 airKorea의 데이터 차이를 한번 비교해보기 ( 일단 해봐야 알 것 같다 )\n",
    "2. PM2.5를 예측할 수 있게 데이터를 조작해보기 ( 이것도 일단 해봐야 알 것 같다 )"
   ]
  },
  {
   "cell_type": "code",
   "execution_count": 1,
   "id": "5adbb8f4",
   "metadata": {},
   "outputs": [],
   "source": [
    "import numpy as np\n",
    "import pandas as pd\n",
    "import seaborn as sns\n",
    "import matplotlib.pyplot as plt\n",
    "from datetime import timedelta, datetime\n",
    "from matplotlib import font_manager, rc\n",
    "\n",
    "from IPython.display import Image # 이미지 삽입\n",
    "\n",
    "plt.rcParams['font.family'] = 'Malgun Gothic'\n",
    "plt.rcParams['figure.figsize'] = [25,15]\n",
    "plt.rcParams['font.size'] = 25"
   ]
  },
  {
   "cell_type": "code",
   "execution_count": 2,
   "id": "c9278a34",
   "metadata": {},
   "outputs": [],
   "source": [
    "# outliar 제거 함수 (IQR 설정) (1)\n",
    "def remove_out(dataframe, remove_col) :\n",
    "    dff = dataframe\n",
    "    for k in remove_col :\n",
    "        level_1q = dff[k].quantile(0.25)\n",
    "        level_3q = dff[k].quantile(0.75)\n",
    "        IQR = level_3q - level_1q\n",
    "        rev_range = 1.5\n",
    "        outliar_h = dff[k] >= level_3q + (rev_range * IQR)\n",
    "        outliar_l = dff[k] <= level_1q - (rev_range * IQR)\n",
    "        a=dff[outliar_h].index\n",
    "        b=dff[outliar_l].index\n",
    "        dff.drop(a, inplace=True)\n",
    "        dff.drop(b, inplace=True)\n",
    "\n",
    "#그래프 2개 비교 (차이 비교) -- 숫자를 표시안함\n",
    "def difference(dataframe1, dataframe2) :    \n",
    "    diff = np.subtract(dataframe1,dataframe2)\n",
    "    \n",
    "    # diff가 0보다 작은 index 찾는 것\n",
    "    diff_down = dataframe2.loc[diff.loc[diff < 0].index]\n",
    "    display(diff_down.index)\n",
    "    \n",
    "    # diff의 값을 평균내는 부분\n",
    "    print(diff.describe())\n",
    "    \n",
    "    # 20%인 위치 값 찾기\n",
    "    try :\n",
    "        sorted_diff = diff.sort_values()\n",
    "        ten_percent_index = int(len(sorted_diff) * 0.1)\n",
    "        ten_percent_value = sorted_diff.iloc[ten_percent_index]\n",
    "        print(\"10% value: \", ten_percent_value)\n",
    "    except IndexError as e:\n",
    "        if \"single positional indexer is out-of-bounds\" in str(e):\n",
    "            print(\"매우나쁨 농도가 없습니다.\")\n",
    "        else:\n",
    "            raise e\n",
    "    finally :\n",
    "        # 숫자 넣는 부분, height + 0.25로 숫자 약간 위로 위치하게 조정\n",
    "        plt.plot(dataframe1.index,diff)\n",
    "        for i in range(len(dataframe1.index)):\n",
    "            height = diff[i]\n",
    "            plt.text(dataframe1.index[i], height + 0.01, '%.2f' %height, ha='center', va='bottom', size = 25)\n",
    "        plt.title(\"Difference between airm-airKorea\")\n",
    "        plt.xlabel(\"Hour\")\n",
    "        plt.ylabel(\"diff\")\n",
    "        plt.show()\n",
    "    \n",
    "# 아림의 미세먼지 농도가 매우나쁨 이상일 때, airKorea의 미세먼지 농도의 평가\n",
    "def air_quality_label(pm25):\n",
    "    if pm25 <= 15:\n",
    "        return '좋음'\n",
    "    elif pm25 <= 35:\n",
    "        return '보통'\n",
    "    elif pm25 <= 75:\n",
    "        return '나쁨'\n",
    "    else:\n",
    "        return '매우 나쁨'"
   ]
  },
  {
   "cell_type": "code",
   "execution_count": null,
   "id": "f055c4e4",
   "metadata": {},
   "outputs": [],
   "source": []
  }
 ],
 "metadata": {
  "kernelspec": {
   "display_name": "Python 3 (ipykernel)",
   "language": "python",
   "name": "python3"
  },
  "language_info": {
   "codemirror_mode": {
    "name": "ipython",
    "version": 3
   },
   "file_extension": ".py",
   "mimetype": "text/x-python",
   "name": "python",
   "nbconvert_exporter": "python",
   "pygments_lexer": "ipython3",
   "version": "3.10.9"
  }
 },
 "nbformat": 4,
 "nbformat_minor": 5
}
