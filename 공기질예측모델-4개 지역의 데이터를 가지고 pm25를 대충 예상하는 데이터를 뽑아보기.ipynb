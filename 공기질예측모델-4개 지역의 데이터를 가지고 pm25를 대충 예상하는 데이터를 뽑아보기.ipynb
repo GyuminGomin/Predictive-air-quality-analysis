{
 "cells": [
  {
   "cell_type": "markdown",
   "id": "9d732365",
   "metadata": {},
   "source": [
    "# 모델을 만들기 위한 절차"
   ]
  },
  {
   "cell_type": "markdown",
   "id": "8e11ede6",
   "metadata": {},
   "source": [
    "1. 2개 이상의 데이터가 들어오면 자동으로 처리할 수 있게 해주는 모델 개발\n",
    "2. 현재는 4개의 데이터를 직접 전처리해 한개의 데이터를 추출할 수 있게 해놓음\n",
    "3. 기온과 습도 풍향과 풍속은 그날 바로 알 수 있으므로, 이 4개 데이터를 넣으면 그 지역 현재 시간대의 미세먼지 등급을 알 수 있게 하는 모델"
   ]
  },
  {
   "cell_type": "markdown",
   "id": "d761a511",
   "metadata": {},
   "source": [
    "결론적으로 처리할 건  \n",
    "(이렇게 하려면 실시간으로 데이터를 크롤링 해와 데이터를 쉽게 다룰 수 있도록 바꾸는 과정이 필요함. -> 현재 불가)  \n",
    "(그냥 과거 데이터를 그냥 두고, 입력을 4개하면 그 지역 미세먼지 등급을 예측하는 모델을 생각해보자.)  \n",
    "input : 입력하세요 -> 기온, 습도, 풍향, 풍속, 위도(거의 비슷한 위치이므로 생략), 경도(거의 비슷한 위치이므로 생략)  \n",
    "처리중입니다. -> 결과 : **지역 미세먼지 등급 - 좋음\n",
    "\n"
   ]
  },
  {
   "cell_type": "markdown",
   "id": "058ce909",
   "metadata": {},
   "source": [
    "다음에 해야할 작업 - >\n",
    "1. 위도, 경도 데이터를 대안동을 뺀 나머지 데이터에 다 넣어주고,\n",
    "2. 위도, 경도, 풍향, 풍속, 기온, 습도 6가지 데이터의 특징을 찾아보고 (없을 확률이 높다)  \n",
    "\n",
    "-> 한개지역의 데이터씩 뽑아서 <올라가거나 내려가는 구간>에서는 회귀분석을 통해, 나온 예측값들을 조화평균내서 대안동에 대입하고, 거의 일정한 구간에서는 그 값들의 평균을 내 대안동에 대입해서 pm25를 예측하는 알고리즘을 만들어서 만들고, 그 값들을 SVM, KNN 등등에 대입해 4가지 등급을 예측하는 알고리즘을 만들자 \n",
    "\n",
    "\n",
    "-> 올라가거나 내려가는 구간을 판별하는 방식은 경사하강법? 미분을 적용시켜 속도가 변하는 구간이 발생하는 조건을 넣어서 생기는 구간을 만들면 되지 않을까 생각한다."
   ]
  },
  {
   "cell_type": "code",
   "execution_count": 4,
   "id": "5591d6d6",
   "metadata": {},
   "outputs": [],
   "source": [
    "import numpy as np\n",
    "import pandas as pd\n",
    "import seaborn as sns\n",
    "import matplotlib.pyplot as plt\n",
    "from datetime import timedelta, datetime\n",
    "from matplotlib import font_manager, rc\n",
    "import warnings\n",
    "\n",
    "# plt parameter 설정\n",
    "plt.rcParams['font.family'] = 'Malgun Gothic'\n",
    "plt.rcParams['figure.figsize'] = [25,15]\n",
    "plt.rcParams['font.size'] = 25\n",
    "\n",
    "# 경고메세지 끄기\n",
    "warnings.filterwarnings(action='ignore')"
   ]
  },
  {
   "cell_type": "code",
   "execution_count": 2,
   "id": "ae7f7898",
   "metadata": {},
   "outputs": [],
   "source": [
    "# outliar 제거 함수 (IQR 설정)\n",
    "def remove_out(dataframe0, dataframe2, dataframe3, dataframe4, dataframe5, remove_col) :\n",
    "    dff = [dataframe0, dataframe2, dataframe3, dataframe4, dataframe5]\n",
    "    for i, dataframe in enumerate(dff) :\n",
    "        for k in remove_col :\n",
    "            level_1q = dataframe[k].quantile(0.25)\n",
    "            level_3q = dataframe[k].quantile(0.75)\n",
    "            IQR = level_3q - level_1q\n",
    "            rev_range = 10\n",
    "            \n",
    "            outliar_h = dataframe[k] >= level_3q + (rev_range * IQR)\n",
    "            outliar_l = dataframe[k] <= level_1q - (rev_range * IQR)\n",
    "\n",
    "            a=dataframe[outliar_h].index\n",
    "            b=dataframe[outliar_l].index\n",
    "            \n",
    "            print(dataframe.name,\":\",[a,b],\"\\n\")\n",
    "            \n",
    "            dataframe.drop(a, inplace=True)\n",
    "            dataframe.drop(b, inplace=True)\n",
    "\n",
    "# 아림의 미세먼지 농도가 매우나쁨 이상일 때, airKorea의 미세먼지 농도의 평가\n",
    "def air_quality_label(pm25):\n",
    "    if pm25 <= 15:\n",
    "        return '좋음'\n",
    "    elif pm25 <= 35:\n",
    "        return '보통'\n",
    "    elif pm25 <= 75:\n",
    "        return '나쁨'\n",
    "    else:\n",
    "        return '매우 나쁨'"
   ]
  },
  {
   "cell_type": "code",
   "execution_count": 3,
   "id": "bde3ad6d",
   "metadata": {},
   "outputs": [
    {
     "name": "stdout",
     "output_type": "stream",
     "text": [
      "학교 : [Int64Index([], dtype='int64'), Int64Index([], dtype='int64')] \n",
      "\n",
      "진주성 : [Int64Index([], dtype='int64'), Int64Index([], dtype='int64')] \n",
      "\n",
      "상봉동 : [Int64Index([], dtype='int64'), Int64Index([], dtype='int64')] \n",
      "\n",
      "상대동 : [Int64Index([], dtype='int64'), Int64Index([], dtype='int64')] \n",
      "\n",
      "대안동 : [Int64Index([], dtype='int64'), Int64Index([], dtype='int64')] \n",
      "\n",
      "<class 'pandas.core.frame.DataFrame'>\n",
      "DatetimeIndex: 359 entries, 2023-01-01 01:00:00 to 2023-01-15 23:00:00\n",
      "Freq: H\n",
      "Data columns (total 7 columns):\n",
      " #   Column             Non-Null Count  Dtype  \n",
      "---  ------             --------------  -----  \n",
      " 0   pm25               350 non-null    float64\n",
      " 1   pm10               350 non-null    float64\n",
      " 2   temp               350 non-null    float64\n",
      " 3   humi               350 non-null    float64\n",
      " 4   air_quality_label  359 non-null    object \n",
      " 5   wind_dir           359 non-null    float64\n",
      " 6   wind_speed         359 non-null    float64\n",
      "dtypes: float64(6), object(1)\n",
      "memory usage: 30.5+ KB\n"
     ]
    },
    {
     "data": {
      "text/plain": [
       "None"
      ]
     },
     "metadata": {},
     "output_type": "display_data"
    },
    {
     "name": "stdout",
     "output_type": "stream",
     "text": [
      "<class 'pandas.core.frame.DataFrame'>\n",
      "DatetimeIndex: 359 entries, 2023-01-01 01:00:00 to 2023-01-15 23:00:00\n",
      "Freq: H\n",
      "Data columns (total 7 columns):\n",
      " #   Column             Non-Null Count  Dtype  \n",
      "---  ------             --------------  -----  \n",
      " 0   pm25               350 non-null    float64\n",
      " 1   pm10               350 non-null    float64\n",
      " 2   temp               350 non-null    float64\n",
      " 3   humi               350 non-null    float64\n",
      " 4   air_quality_label  359 non-null    object \n",
      " 5   wind_dir           359 non-null    float64\n",
      " 6   wind_speed         359 non-null    float64\n",
      "dtypes: float64(6), object(1)\n",
      "memory usage: 30.5+ KB\n"
     ]
    },
    {
     "data": {
      "text/plain": [
       "None"
      ]
     },
     "metadata": {},
     "output_type": "display_data"
    },
    {
     "name": "stdout",
     "output_type": "stream",
     "text": [
      "<class 'pandas.core.frame.DataFrame'>\n",
      "DatetimeIndex: 359 entries, 2023-01-01 01:00:00 to 2023-01-15 23:00:00\n",
      "Freq: H\n",
      "Data columns (total 7 columns):\n",
      " #   Column             Non-Null Count  Dtype  \n",
      "---  ------             --------------  -----  \n",
      " 0   pm10               347 non-null    float64\n",
      " 1   pm25               319 non-null    float64\n",
      " 2   air_quality_label  359 non-null    object \n",
      " 3   temp               359 non-null    float64\n",
      " 4   humi               359 non-null    float64\n",
      " 5   wind_dir           359 non-null    float64\n",
      " 6   wind_speed         359 non-null    float64\n",
      "dtypes: float64(6), object(1)\n",
      "memory usage: 22.4+ KB\n"
     ]
    },
    {
     "data": {
      "text/plain": [
       "None"
      ]
     },
     "metadata": {},
     "output_type": "display_data"
    },
    {
     "name": "stdout",
     "output_type": "stream",
     "text": [
      "<class 'pandas.core.frame.DataFrame'>\n",
      "DatetimeIndex: 359 entries, 2023-01-01 01:00:00 to 2023-01-15 23:00:00\n",
      "Freq: H\n",
      "Data columns (total 7 columns):\n",
      " #   Column             Non-Null Count  Dtype  \n",
      "---  ------             --------------  -----  \n",
      " 0   pm10               357 non-null    float64\n",
      " 1   pm25               357 non-null    float64\n",
      " 2   air_quality_label  359 non-null    object \n",
      " 3   temp               359 non-null    float64\n",
      " 4   humi               359 non-null    float64\n",
      " 5   wind_dir           359 non-null    float64\n",
      " 6   wind_speed         359 non-null    float64\n",
      "dtypes: float64(6), object(1)\n",
      "memory usage: 22.4+ KB\n"
     ]
    },
    {
     "data": {
      "text/plain": [
       "None"
      ]
     },
     "metadata": {},
     "output_type": "display_data"
    },
    {
     "name": "stdout",
     "output_type": "stream",
     "text": [
      "<class 'pandas.core.frame.DataFrame'>\n",
      "DatetimeIndex: 359 entries, 2023-01-01 01:00:00 to 2023-01-15 23:00:00\n",
      "Freq: H\n",
      "Data columns (total 7 columns):\n",
      " #   Column             Non-Null Count  Dtype  \n",
      "---  ------             --------------  -----  \n",
      " 0   pm10               158 non-null    float64\n",
      " 1   pm25               297 non-null    float64\n",
      " 2   air_quality_label  359 non-null    object \n",
      " 3   temp               359 non-null    float64\n",
      " 4   humi               359 non-null    float64\n",
      " 5   wind_dir           359 non-null    float64\n",
      " 6   wind_speed         359 non-null    float64\n",
      "dtypes: float64(6), object(1)\n",
      "memory usage: 22.4+ KB\n"
     ]
    },
    {
     "data": {
      "text/plain": [
       "None"
      ]
     },
     "metadata": {},
     "output_type": "display_data"
    },
    {
     "name": "stdout",
     "output_type": "stream",
     "text": [
      "###################################\n",
      "###################################\n",
      "###################################\n",
      "###################################\n",
      "###################################\n",
      "\n",
      "수정후\n",
      "<class 'pandas.core.frame.DataFrame'>\n",
      "DatetimeIndex: 253 entries, 2023-01-14 06:00:00 to 2023-01-03 00:00:00\n",
      "Data columns (total 7 columns):\n",
      " #   Column             Non-Null Count  Dtype  \n",
      "---  ------             --------------  -----  \n",
      " 0   pm25               253 non-null    float64\n",
      " 1   pm10               253 non-null    float64\n",
      " 2   temp               253 non-null    float64\n",
      " 3   humi               253 non-null    float64\n",
      " 4   air_quality_label  253 non-null    object \n",
      " 5   wind_dir           253 non-null    float64\n",
      " 6   wind_speed         253 non-null    float64\n",
      "dtypes: float64(6), object(1)\n",
      "memory usage: 15.8+ KB\n"
     ]
    },
    {
     "data": {
      "text/plain": [
       "None"
      ]
     },
     "metadata": {},
     "output_type": "display_data"
    },
    {
     "name": "stdout",
     "output_type": "stream",
     "text": [
      "<class 'pandas.core.frame.DataFrame'>\n",
      "DatetimeIndex: 253 entries, 2023-01-14 06:00:00 to 2023-01-03 00:00:00\n",
      "Data columns (total 7 columns):\n",
      " #   Column             Non-Null Count  Dtype  \n",
      "---  ------             --------------  -----  \n",
      " 0   pm25               253 non-null    float64\n",
      " 1   pm10               253 non-null    float64\n",
      " 2   temp               253 non-null    float64\n",
      " 3   humi               253 non-null    float64\n",
      " 4   air_quality_label  253 non-null    object \n",
      " 5   wind_dir           253 non-null    float64\n",
      " 6   wind_speed         253 non-null    float64\n",
      "dtypes: float64(6), object(1)\n",
      "memory usage: 15.8+ KB\n"
     ]
    },
    {
     "data": {
      "text/plain": [
       "None"
      ]
     },
     "metadata": {},
     "output_type": "display_data"
    },
    {
     "name": "stdout",
     "output_type": "stream",
     "text": [
      "<class 'pandas.core.frame.DataFrame'>\n",
      "DatetimeIndex: 253 entries, 2023-01-14 06:00:00 to 2023-01-03 00:00:00\n",
      "Data columns (total 7 columns):\n",
      " #   Column             Non-Null Count  Dtype  \n",
      "---  ------             --------------  -----  \n",
      " 0   pm10               253 non-null    float64\n",
      " 1   pm25               253 non-null    float64\n",
      " 2   air_quality_label  253 non-null    object \n",
      " 3   temp               253 non-null    float64\n",
      " 4   humi               253 non-null    float64\n",
      " 5   wind_dir           253 non-null    float64\n",
      " 6   wind_speed         253 non-null    float64\n",
      "dtypes: float64(6), object(1)\n",
      "memory usage: 15.8+ KB\n"
     ]
    },
    {
     "data": {
      "text/plain": [
       "None"
      ]
     },
     "metadata": {},
     "output_type": "display_data"
    },
    {
     "name": "stdout",
     "output_type": "stream",
     "text": [
      "<class 'pandas.core.frame.DataFrame'>\n",
      "DatetimeIndex: 253 entries, 2023-01-14 06:00:00 to 2023-01-03 00:00:00\n",
      "Data columns (total 7 columns):\n",
      " #   Column             Non-Null Count  Dtype  \n",
      "---  ------             --------------  -----  \n",
      " 0   pm10               253 non-null    float64\n",
      " 1   pm25               253 non-null    float64\n",
      " 2   air_quality_label  253 non-null    object \n",
      " 3   temp               253 non-null    float64\n",
      " 4   humi               253 non-null    float64\n",
      " 5   wind_dir           253 non-null    float64\n",
      " 6   wind_speed         253 non-null    float64\n",
      "dtypes: float64(6), object(1)\n",
      "memory usage: 15.8+ KB\n"
     ]
    },
    {
     "data": {
      "text/plain": [
       "None"
      ]
     },
     "metadata": {},
     "output_type": "display_data"
    },
    {
     "name": "stdout",
     "output_type": "stream",
     "text": [
      "<class 'pandas.core.frame.DataFrame'>\n",
      "DatetimeIndex: 253 entries, 2023-01-14 06:00:00 to 2023-01-03 00:00:00\n",
      "Data columns (total 7 columns):\n",
      " #   Column             Non-Null Count  Dtype  \n",
      "---  ------             --------------  -----  \n",
      " 0   pm10               123 non-null    float64\n",
      " 1   pm25               253 non-null    float64\n",
      " 2   air_quality_label  253 non-null    object \n",
      " 3   temp               253 non-null    float64\n",
      " 4   humi               253 non-null    float64\n",
      " 5   wind_dir           253 non-null    float64\n",
      " 6   wind_speed         253 non-null    float64\n",
      "dtypes: float64(6), object(1)\n",
      "memory usage: 15.8+ KB\n"
     ]
    },
    {
     "data": {
      "text/plain": [
       "None"
      ]
     },
     "metadata": {},
     "output_type": "display_data"
    }
   ],
   "source": [
    "# arim_data 1.01~1.15 Hour\n",
    "OA200_2 = pd.read_csv('./OA200_2/OA2002_01.01~01.15.csv')\n",
    "OA200_2['reg_date'] = OA200_2.reg_date.apply(pd.to_datetime)\n",
    "\n",
    "OA200_1 = pd.read_csv('./OA200_1/OA2001_01.01~01.15.csv')\n",
    "OA200_1['reg_date'] = OA200_1.reg_date.apply(pd.to_datetime)\n",
    "\n",
    "# airKorea_data 1.16~1.31 Hour, 상봉동 : 1, 상대동 : 2, 대안동 : 3\n",
    "airKorea_data_1 = pd.read_csv('./AirKorea_상봉동/AirKorea_01.01~01.15.csv')\n",
    "airKorea_data_1['date'] = airKorea_data_1.date.apply(pd.to_datetime)\n",
    "\n",
    "airKorea_data_2 = pd.read_csv('./AirKorea_상대동/AirKorea_01.01~01.15.csv')\n",
    "airKorea_data_2['date'] = airKorea_data_2.date.apply(pd.to_datetime)\n",
    "\n",
    "airKorea_data_3 = pd.read_csv('./AirKorea_대안동/AirKorea_01.01~01.15.csv')\n",
    "airKorea_data_3['date'] = airKorea_data_3.date.apply(pd.to_datetime)\n",
    "\n",
    "# 이름 설정\n",
    "OA200_1.name = '학교'\n",
    "OA200_2.name = '진주성'\n",
    "airKorea_data_1.name = '상봉동'\n",
    "airKorea_data_2.name = '상대동'\n",
    "airKorea_data_3.name = '대안동'\n",
    "\n",
    "# outliar 제거\n",
    "remove_out(OA200_1, OA200_2, airKorea_data_1, airKorea_data_2, airKorea_data_3, ['pm25'])\n",
    "\n",
    "# 1시간 단위로 측정 나누기\n",
    "OA200_2_avg = OA200_2.groupby([pd.Grouper(key='reg_date', freq='H')]).mean()\n",
    "OA200_1_avg = OA200_1.groupby([pd.Grouper(key='reg_date', freq='H')]).mean()\n",
    "airKorea_data_1_avg = airKorea_data_1.groupby([pd.Grouper(key='date', freq='H')]).mean()\n",
    "airKorea_data_2_avg = airKorea_data_2.groupby([pd.Grouper(key='date', freq='H')]).mean()\n",
    "airKorea_data_3_avg = airKorea_data_3.groupby([pd.Grouper(key='date', freq='H')]).mean()\n",
    "\n",
    "# arim 데이터 수정\n",
    "OA200_1_avg_76 = OA200_1_avg.loc[OA200_1_avg.loc[OA200_1_avg.pm25 >= 76].index]\n",
    "OA200_2_avg_76 = OA200_2_avg.loc[OA200_2_avg.loc[OA200_2_avg.pm25 >= 76].index]\n",
    "OA200_1_avg_76.pm25 -= 4.49\n",
    "OA200_2_avg_76.pm25 -= 4.49\n",
    "\n",
    "# arim 데이터 수정 후 대입\n",
    "OA200_1_avg.loc[OA200_1_avg_76.index, 'pm25'] = OA200_1_avg_76['pm25']\n",
    "OA200_2_avg.loc[OA200_2_avg_76.index, 'pm25'] = OA200_2_avg_76['pm25']\n",
    "\n",
    "# 좋음, 보통, 나쁨, 매우나쁨 카데고리 분류\n",
    "OA200_1_avg['air_quality_label'] = OA200_1_avg['pm25'].apply(lambda x: air_quality_label(x))\n",
    "OA200_2_avg['air_quality_label'] = OA200_2_avg['pm25'].apply(lambda x: air_quality_label(x))\n",
    "airKorea_data_1_avg['air_quality_label'] = airKorea_data_1_avg['pm25'].apply(lambda x: air_quality_label(x))\n",
    "airKorea_data_2_avg['air_quality_label'] = airKorea_data_2_avg['pm25'].apply(lambda x: air_quality_label(x))\n",
    "airKorea_data_3_avg['air_quality_label'] = airKorea_data_3_avg['pm25'].apply(lambda x: air_quality_label(x))\n",
    "\n",
    "# arim 데이터 풍향, 풍속 데이터 삽입\n",
    "Sangbong = pd.read_csv(\"./weather/상봉동/2023-01.csv\", encoding='cp949')\n",
    "Sangbong['일시'] = Sangbong['일시'].apply(pd.to_datetime)\n",
    "Sangbong_avg = Sangbong.groupby([pd.Grouper(key='일시', freq='H')]).mean()\n",
    "OA200_2_avg['wind_dir'] = Sangbong_avg['풍향(16방위)']\n",
    "OA200_2_avg['wind_speed'] = Sangbong_avg['풍속(m/s)']\n",
    "\n",
    "Jungchon = pd.read_csv(\"./weather/정촌면(학교근처)/2023-01.csv\", encoding='cp949')\n",
    "Jungchon['일시'] = Jungchon['일시'].apply(pd.to_datetime)\n",
    "Jungchon_avg = Jungchon.groupby([pd.Grouper(key='일시', freq='H')]).mean()\n",
    "OA200_1_avg['wind_dir'] = Jungchon_avg['풍향(16방위)']\n",
    "OA200_1_avg['wind_speed'] = Jungchon_avg['풍속(m/s)']\n",
    "\n",
    "# airKorea 데이터 온도, 습도, 풍향, 풍속 데이터 삽입\n",
    "airKorea_data_1_avg['temp'] = Sangbong_avg['기온']\n",
    "airKorea_data_1_avg['humi'] = Sangbong_avg['상대습도(%)']\n",
    "airKorea_data_1_avg['wind_dir'] = Sangbong_avg['풍향(16방위)']\n",
    "airKorea_data_1_avg['wind_speed'] = Sangbong_avg['풍속(m/s)']\n",
    "\n",
    "Sangdae = pd.read_csv(\"./weather/상대동/2023-01.csv\", encoding='cp949')\n",
    "Sangdae['일시'] = Sangdae['일시'].apply(pd.to_datetime)\n",
    "Sangdae_avg = Sangdae.groupby([pd.Grouper(key='일시', freq='H')]).mean()\n",
    "airKorea_data_2_avg['temp'] = Sangdae_avg['기온']\n",
    "airKorea_data_2_avg['humi'] = Sangdae_avg['상대습도(%)']\n",
    "airKorea_data_2_avg['wind_dir'] = Sangdae_avg['풍향(16방위)']\n",
    "airKorea_data_2_avg['wind_speed'] = Sangdae_avg['풍속(m/s)']\n",
    "\n",
    "Daean = pd.read_csv(\"./weather/대안동/2023-01.csv\", encoding='cp949')\n",
    "Daean['일시'] = Daean['일시'].apply(pd.to_datetime)\n",
    "Daean_avg = Daean.groupby([pd.Grouper(key='일시', freq='H')]).mean()\n",
    "airKorea_data_3_avg['temp'] = Daean_avg['기온']\n",
    "airKorea_data_3_avg['humi'] = Daean_avg['상대습도(%)']\n",
    "airKorea_data_3_avg['wind_dir'] = Daean_avg['풍향(16방위)']\n",
    "airKorea_data_3_avg['wind_speed'] = Daean_avg['풍속(m/s)']\n",
    "\n",
    "# OA200 데이터의 필요없는 no 열 삭제\n",
    "OA200_1_avg = OA200_1_avg.drop('no', axis=1)\n",
    "OA200_2_avg = OA200_2_avg.drop('no', axis=1)\n",
    "\n",
    "# 일단 데이터 셋 확인\n",
    "display(OA200_1_avg.info())\n",
    "display(OA200_2_avg.info())\n",
    "display(airKorea_data_1_avg.info())\n",
    "display(airKorea_data_2_avg.info())\n",
    "display(airKorea_data_3_avg.info())\n",
    "\n",
    "# 참고로 Nan 값을 가진 대안동의 데이터를 소거 해주는 작업이 필요!\n",
    "airKorea_data_1_avg = airKorea_data_1_avg.dropna(subset=['pm25'], axis=0)\n",
    "airKorea_data_2_avg = airKorea_data_2_avg.dropna(subset=['pm25'], axis=0)\n",
    "airKorea_data_3_avg = airKorea_data_3_avg.dropna(subset=['pm25'], axis=0)\n",
    "OA200_1_avg = OA200_1_avg.dropna(subset=['pm25'], axis=0)\n",
    "OA200_2_avg = OA200_2_avg.dropna(subset=['pm25'], axis=0)\n",
    "\n",
    "# 가장 작은 airKorea_data의 인덱스와 나머지 데이터들의 인덱스 같게 만들어주기\n",
    "idx = set(airKorea_data_1_avg.index).intersection(\n",
    "    set(airKorea_data_2_avg.index),\n",
    "    set(airKorea_data_3_avg.index),\n",
    "    set(OA200_1_avg.index),\n",
    "    set(OA200_2_avg.index)\n",
    ")\n",
    "airKorea_data_1_avg = airKorea_data_1_avg.reindex(idx)\n",
    "airKorea_data_2_avg = airKorea_data_2_avg.reindex(idx)\n",
    "airKorea_data_3_avg = airKorea_data_3_avg.reindex(idx)\n",
    "OA200_1_avg = OA200_1_avg.reindex(idx)\n",
    "OA200_2_avg = OA200_2_avg.reindex(idx)\n",
    "\n",
    "# 수정 후 데이터 셋 확인\n",
    "print(\"###################################\\n\"*5)\n",
    "print(\"수정후\")\n",
    "\n",
    "# 일단 데이터 셋 확인\n",
    "display(OA200_1_avg.info())\n",
    "display(OA200_2_avg.info())\n",
    "display(airKorea_data_1_avg.info())\n",
    "display(airKorea_data_2_avg.info())\n",
    "display(airKorea_data_3_avg.info())"
   ]
  },
  {
   "cell_type": "markdown",
   "id": "8601fc31",
   "metadata": {},
   "source": []
  }
 ],
 "metadata": {
  "kernelspec": {
   "display_name": "Python 3 (ipykernel)",
   "language": "python",
   "name": "python3"
  },
  "language_info": {
   "codemirror_mode": {
    "name": "ipython",
    "version": 3
   },
   "file_extension": ".py",
   "mimetype": "text/x-python",
   "name": "python",
   "nbconvert_exporter": "python",
   "pygments_lexer": "ipython3",
   "version": "3.10.9"
  }
 },
 "nbformat": 4,
 "nbformat_minor": 5
}
