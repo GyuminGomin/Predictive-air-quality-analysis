{
 "cells": [
  {
   "cell_type": "code",
   "execution_count": 1,
   "id": "49ae5eb9",
   "metadata": {},
   "outputs": [],
   "source": [
    "import numpy as np\n",
    "import pandas as pd\n",
    "import seaborn as sns\n",
    "import matplotlib.pyplot as plt\n",
    "from datetime import timedelta, datetime\n",
    "from matplotlib import font_manager, rc\n",
    "import warnings\n",
    "\n",
    "# plt parameter 설정\n",
    "plt.rcParams['font.family'] = 'Malgun Gothic'\n",
    "plt.rcParams['figure.figsize'] = [25,15]\n",
    "plt.rcParams['font.size'] = 25\n",
    "\n",
    "# 경고메세지 끄기\n",
    "warnings.filterwarnings(action='ignore')"
   ]
  },
  {
   "cell_type": "code",
   "execution_count": 2,
   "id": "0a2f1cba",
   "metadata": {},
   "outputs": [],
   "source": [
    "# outliar 제거 함수 (IQR 설정) (1)\n",
    "def remove_out(dataframe, remove_col) :\n",
    "    dff = dataframe\n",
    "    for k in remove_col :\n",
    "        level_1q = dff[k].quantile(0.25)\n",
    "        level_3q = dff[k].quantile(0.75)\n",
    "        IQR = level_3q - level_1q\n",
    "        rev_range = 1.5\n",
    "        outliar_h = dff[k] >= level_3q + (rev_range * IQR)\n",
    "        outliar_l = dff[k] <= level_1q - (rev_range * IQR)\n",
    "        a=dff[outliar_h].index\n",
    "        b=dff[outliar_l].index\n",
    "        dff.drop(a, inplace=True)\n",
    "        dff.drop(b, inplace=True)\n",
    "        \n",
    "def find_condition_pm25(dataframe1, dataframe2) :\n",
    "    diff = np.subtract(dataframe1.pm25, dataframe2.pm25)\n",
    "    diff = diff.to_frame(name='difference')\n",
    "\n",
    "    arimDown = dataframe2.loc[diff.loc[diff['difference']>0].index] # diff 값이 0보다 큰 즉 airKorea data가 arim보다 큰 값\n",
    "    \n",
    "    arimUp = dataframe2.loc[diff.loc[diff['difference']<0].index] # diff 값이 0보다 작은 즉 airKorea data가 arim보다 작은 값\n",
    "\n",
    "    "
   ]
  },
  {
   "cell_type": "code",
   "execution_count": null,
   "id": "fbd58595",
   "metadata": {},
   "outputs": [],
   "source": [
    " arim_data 1.1~1.15 Hour\n",
    "arim_data = pd.read_csv('./OA200_2/OA2002_01.01~01.15.csv')\n",
    "arim_data['reg_date'] = arim_data.reg_date.apply(pd.to_datetime)\n",
    "# 날짜별 그룹화하고 그 날짜별 시간대별로 다시 그룹화하여 평균값 계산\n",
    "arim_data_avg = arim_data.groupby([pd.Grouper(key='reg_date', freq='H')]).mean()\n",
    "\n",
    "remove_out(arim_data_avg, pm25)\n",
    "\n",
    "# airKorea_data 1.1~1.15 Hour\n",
    "airKorea_data = pd.read_csv('./AirKorea_상봉동/AirKorea_01.01~01.15.csv')\n",
    "\n",
    "airKorea_data['date'] = airKorea_data.date.apply(pd.to_datetime)\n",
    "airKorea_data_avg = airKorea_data.groupby([pd.Grouper(key='date', freq='H')]).mean()\n",
    "\n",
    "remove_out(airKorea_data_avg, pm25)\n",
    "\n",
    "\n"
   ]
  }
 ],
 "metadata": {
  "kernelspec": {
   "display_name": "Python 3 (ipykernel)",
   "language": "python",
   "name": "python3"
  },
  "language_info": {
   "codemirror_mode": {
    "name": "ipython",
    "version": 3
   },
   "file_extension": ".py",
   "mimetype": "text/x-python",
   "name": "python",
   "nbconvert_exporter": "python",
   "pygments_lexer": "ipython3",
   "version": "3.10.9"
  }
 },
 "nbformat": 4,
 "nbformat_minor": 5
}
